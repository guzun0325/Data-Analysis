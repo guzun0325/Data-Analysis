{
  "cells": [
    {
      "cell_type": "markdown",
      "metadata": {
        "id": "view-in-github",
        "colab_type": "text"
      },
      "source": [
        "<a href=\"https://colab.research.google.com/github/guzun0325/Data-Analysis/blob/main/%E8%B3%87%E6%96%99%E5%89%8D%E8%99%95%E7%90%86.ipynb\" target=\"_parent\"><img src=\"https://colab.research.google.com/assets/colab-badge.svg\" alt=\"Open In Colab\"/></a>"
      ]
    },
    {
      "cell_type": "markdown",
      "source": [
        "### 資料輸入"
      ],
      "metadata": {
        "id": "dY3ZmLgFodzu"
      }
    },
    {
      "cell_type": "code",
      "source": [
        "import pandas as pd\n",
        "import numpy as np\n",
        "import matplotlib.pyplot as plt\n",
        "import datetime"
      ],
      "metadata": {
        "id": "-UwVruoDn1UC"
      },
      "execution_count": null,
      "outputs": []
    },
    {
      "cell_type": "code",
      "source": [
        "data = pd.read_csv(\"1472實驗 20220819_39_2.tsv\", sep='\\t')"
      ],
      "metadata": {
        "id": "v3XwfunGn3M-",
        "outputId": "73875557-f8da-4c73-f63c-982bdac4663e",
        "colab": {
          "base_uri": "https://localhost:8080/"
        }
      },
      "execution_count": null,
      "outputs": [
        {
          "output_type": "stream",
          "name": "stderr",
          "text": [
            "<ipython-input-21-552739ea2fe1>:1: DtypeWarning: Columns (14,15) have mixed types. Specify dtype option on import or set low_memory=False.\n",
            "  data = pd.read_csv(\"1472實驗 20220819_39_2.tsv\", sep='\\t')\n"
          ]
        }
      ]
    },
    {
      "cell_type": "markdown",
      "source": [
        "### 轉換微秒為時間"
      ],
      "metadata": {
        "id": "ZcHHfTXFoWc2"
      }
    },
    {
      "cell_type": "code",
      "source": [
        "from datetime import timedelta\n",
        "\n",
        "def milliseconds_to_hms(milliseconds: int) -> str:\n",
        "    \"\"\"毫秒轉hh:mm:ss.ffff\n",
        "    \"\"\"\n",
        "    time_delta = timedelta(milliseconds=milliseconds)\n",
        "    total_seconds = time_delta.total_seconds()/1000\n",
        "\n",
        "    # 1小時3600秒\n",
        "    seconds_in_hours = timedelta(hours=1).total_seconds()\n",
        "\n",
        "    # 1分鐘60秒\n",
        "    seconds_in_minute = timedelta(minutes=1).total_seconds()\n",
        "\n",
        "    # 小時, 剩餘小時的秒數 = 總秒數/3600秒(1小時=3600秒)\n",
        "    hours, remainder = divmod(total_seconds, seconds_in_hours)\n",
        "\n",
        "    # 分鐘, 剩餘秒數 = 剩餘小時的秒數/60秒(1分鐘=60秒)\n",
        "    minutes, seconds = divmod(remainder, seconds_in_minute)\n",
        "\n",
        "     # 秒, 毫秒 = 剩餘秒數的整數部分和毫秒部分\n",
        "    seconds_int = int(seconds)\n",
        "    milliseconds = int((seconds - seconds_int) * 1000)\n",
        "\n",
        "\n",
        "    return f'{int(hours):02}:{int(minutes):02}:{seconds_int:02}.{milliseconds:03}'\n",
        "\n",
        "print(milliseconds_to_hms(1004.115))"
      ],
      "metadata": {
        "id": "V0fYPGw_oVo_",
        "outputId": "fcacc68c-79bc-4875-8166-39e9e4723405",
        "colab": {
          "base_uri": "https://localhost:8080/"
        }
      },
      "execution_count": null,
      "outputs": [
        {
          "output_type": "stream",
          "name": "stdout",
          "text": [
            "00:00:00.001\n"
          ]
        }
      ]
    },
    {
      "cell_type": "code",
      "source": [
        "time_list = []\n",
        "for i in range (len(data)):\n",
        "    time = milliseconds_to_hms(int(data['Recording timestamp'][i]))\n",
        "    time_list.append(time)\n",
        "data = pd.concat([pd.DataFrame({'time list':time_list}),data],axis=1)"
      ],
      "metadata": {
        "id": "z86VJJMSoiZ-"
      },
      "execution_count": null,
      "outputs": []
    },
    {
      "cell_type": "markdown",
      "source": [
        "### 篩選跟點擊相關的事件"
      ],
      "metadata": {
        "id": "s84pFpLRouZl"
      }
    },
    {
      "cell_type": "code",
      "source": [
        "mouse = data['Event'] == 'MouseEvent' #計算那些欄位是Moouse\n",
        "mouse_data = data[mouse] #取出對應欄位的資料\n",
        "mouse_data.reset_index(drop=True, inplace=True) #重新調整索引"
      ],
      "metadata": {
        "id": "oZJuyGcrox6n"
      },
      "execution_count": null,
      "outputs": []
    },
    {
      "cell_type": "code",
      "source": [
        "def calculate_mouse_intervals(picklist):\n",
        "    delay_list = []\n",
        "    for i in range(1, len(picklist)):\n",
        "        mouse_delay = picklist[i] - picklist[i - 1]  # 計算兩點距離\n",
        "        ms_dist = mouse_delay / 1000.0  # 微秒轉換為毫秒單位\n",
        "        delay_list.append(ms_dist)\n",
        "    return delay_list\n",
        "\n",
        "mouse_delay = calculate_mouse_intervals(mouse_data['Recording timestamp'])"
      ],
      "metadata": {
        "id": "TLCo91UBr3uW"
      },
      "execution_count": null,
      "outputs": []
    },
    {
      "cell_type": "markdown",
      "source": [
        "### 將篩選出的欄位整合"
      ],
      "metadata": {
        "id": "Ww5_Yiepr6it"
      }
    },
    {
      "cell_type": "code",
      "source": [
        "mouse_form = pd.DataFrame({'time':mouse_data['time list'][:-1],\n",
        "                           'Recording Timestamp':mouse_data['Recording timestamp'][:-1],\n",
        "                           'Mouse delay':mouse_delay}) #扣除最後一次按鈕沒有反應時間"
      ],
      "metadata": {
        "id": "51Wg8AzSr4Cu"
      },
      "execution_count": null,
      "outputs": []
    },
    {
      "cell_type": "code",
      "source": [
        "import pandas as pd\n",
        "# Create a Pandas Excel writer using XlsxWriter as the engine.\n",
        "writer = pd.ExcelWriter('mouse_click.xlsx', engine='openpyxl')\n",
        "\n",
        "# Convert the dataframe to an XlsxWriter Excel object.\n",
        "mouse_form.to_excel(writer, sheet_name='mouse_click')\n",
        "\n",
        "# Close the Pandas Excel writer and output the Excel file.\n",
        "writer.close()"
      ],
      "metadata": {
        "id": "Jkrk_BWQsMm1"
      },
      "execution_count": null,
      "outputs": []
    }
  ],
  "metadata": {
    "colab": {
      "provenance": [],
      "include_colab_link": true
    },
    "kernelspec": {
      "display_name": "Python 3",
      "name": "python3"
    }
  },
  "nbformat": 4,
  "nbformat_minor": 0
}